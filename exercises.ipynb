{
 "cells": [
  {
   "cell_type": "code",
   "execution_count": 1,
   "metadata": {},
   "outputs": [],
   "source": [
    "from torch import nn\n",
    "import torch"
   ]
  },
  {
   "cell_type": "markdown",
   "metadata": {},
   "source": [
    "##### Attention:\n",
    "For this lab, there are no local answers for the questions in learntools. However, there are some assertions for the first 4 questions. You should pass all of the assertions before submitting to the autograding.\n",
    "\n",
    "Some of the questions use mathematical symbols and equations to depict the scenario. These are just some basic \"formal\" definitions and you should understand them. In case you haven't understood them, read again and give yourself sometime to ponder. If there is any error or details in the questions that heavily confuse you, please post your concerns on Google Classroom. "
   ]
  },
  {
   "cell_type": "markdown",
   "metadata": {},
   "source": [
    "## Questions"
   ]
  },
  {
   "cell_type": "markdown",
   "metadata": {},
   "source": [
    "### Q1: Given a function $f(x) = x^2 + 3x + 8$, return the gradient of $x$ when $x=2.0$ using pytorch autograd. The gradient tensor should have type torch.float32 and dim=0."
   ]
  },
  {
   "cell_type": "code",
   "execution_count": 2,
   "metadata": {},
   "outputs": [],
   "source": [
    "def exercise_1() -> torch.Tensor:\n",
    "    x = torch.tensor(2.0, dtype=torch.float32, requires_grad=True)\n",
    "    y = x **2 + 3*x + 8\n",
    "    y.backward()\n",
    "    return x.grad\n",
    "\n",
    "\n",
    "ex1_sol = exercise_1()\n",
    "assert torch.equal(ex1_sol, torch.tensor(7.0))"
   ]
  },
  {
   "cell_type": "markdown",
   "metadata": {},
   "source": [
    "### Q2: A typical layer in a Neural Network would look like $f(x) = w_1 x_1 + w_2 x_2 + w_3 x_3 + ... + b$, where $w_j$ is the j-th weight of the function and $b$ is its bias. This function outputs a result for a multi-dimension input, where $x_j$ is the j-th feature of the input. Implement this function, return the gradients of each weight for a given input `x` and the output using `tuple` with the formar `(output, weight_grads_tensor)`. The weights should be randomized using `torch.randn()` and the bias must be set to $5.0$. The input used by the autograder will be the same size as the one given below."
   ]
  },
  {
   "cell_type": "code",
   "execution_count": 3,
   "metadata": {},
   "outputs": [],
   "source": [
    "x = torch.tensor([1, 2, 3, 4, 5], dtype = torch.float32)\n",
    "\n",
    "def exercise_2(x) -> tuple:\n",
    "    float_x = x.float()\n",
    "\n",
    "    torch.manual_seed(0) # must set seed=0 before random your weight\n",
    "    weight_grads_tensor = torch.randn(size=float_x.size(), dtype = torch.float32, requires_grad=True)\n",
    "    b = torch.tensor(5.0)\n",
    "\n",
    "    output = torch.dot(weight_grads_tensor, float_x) + b\n",
    "\n",
    "    output.backward()\n",
    "\n",
    "    return (output, weight_grads_tensor.grad)\n",
    "    # you must return in this format\n",
    "\n",
    "ex2_sol = exercise_2(x)\n",
    "\n",
    "assert (ex2_sol[0] - torch.tensor(-3.7311) < 1e-4).item()\n",
    "assert torch.equal(ex2_sol[1], torch.tensor([1, 2, 3, 4, 5], dtype=torch.float32))"
   ]
  },
  {
   "cell_type": "markdown",
   "metadata": {},
   "source": [
    "### Q3: Suppose each feature $x_j$ needs a separate function $f_j(x_j)$, where $f_j(x_j) = w_j x_j + b_j$. In other words, each feature requires a function, which has a separate set of 1 weight and 1 bias. Therefore, the output $y$ of your function $G(x)=[f_1(x_1), f_2(x_2), ..., f_n(x_n)]$ should be $y = [(w_1 x_1 + b_1), (w_2 x_2 + b_2), ..., (w_n x_n + b_n)]$ (**note:** these are matrices written lazily with markdown). Implement the function $G(x)$, return the output and the gradient sets for each function for a given `x`. The weights should be randomized using `torch.randn()`, and the bias is the same as $j$ of $f_j()$ (for example: $b_1 = 1.0$, $b_2 = 2.0$). The input used by the autograder will be the same size as the one given below."
   ]
  },
  {
   "cell_type": "code",
   "execution_count": 4,
   "metadata": {},
   "outputs": [],
   "source": [
    "x = torch.tensor([1, 2, 3, 4, 5])\n",
    "\n",
    "def exercise_3(x) -> tuple:\n",
    "    float_x = x.float()\n",
    "    torch.manual_seed(0)\n",
    "\n",
    "    weights = torch.randn(size=float_x.size(), dtype = torch.float32, requires_grad=True)\n",
    "    biases = torch.arange(1, len(float_x) + 1, dtype = torch.float32)\n",
    "    output = weights * x + biases\n",
    "\n",
    "    weight_grads_tensor = x.clone()\n",
    "\n",
    "    return output,weight_grads_tensor\n",
    "\n",
    "ex3_sol = exercise_3(x)\n",
    "assert torch.all((ex3_sol[0] - torch.tensor([ 2.5410,  1.4131, -3.5364,  6.2737, -0.4226 ], dtype=torch.float32)) < 5e-4).item()\n",
    "assert torch.equal(ex3_sol[1], torch.tensor([1, 2, 3, 4, 5], dtype=torch.float32))\n",
    "#q3.hint()"
   ]
  },
  {
   "cell_type": "markdown",
   "metadata": {},
   "source": [
    "### Q4: Using the function $f(x)$ similar to the one in question 2, implement the function with random weights and bias (must use `torch.manual_seed(0)` before each initialization). Calculate the Mean Squared Error between the `target` and your function prediction on the `data` as a loss metric, then return a tuple containing the gradients of your function weights and bias based on the calculated loss."
   ]
  },
  {
   "cell_type": "code",
   "execution_count": 5,
   "metadata": {},
   "outputs": [],
   "source": [
    "data = torch.tensor([2.0, 3.0, 4.0, 5.0, 6.0, 7.0, 8.0, 9.0, 10.0, 11.0])\n",
    "target = torch.tensor([2.0])\n",
    "\n",
    "def exercise_4(data, target) -> tuple:\n",
    "    torch.manual_seed(0)\n",
    "    weights = torch.randn(data.size(0), requires_grad=True)\n",
    "    torch.manual_seed(0) \n",
    "    biases = torch.randn(1, requires_grad=True) #1 element only\n",
    "\n",
    "    # MSE loss\n",
    "    prediction = torch.sum(data * weights) + biases\n",
    "    loss = ((prediction - target) ** 2).mean()\n",
    "\n",
    "    loss.backward()\n",
    "    \n",
    "    return weights.grad, biases.grad\n",
    "\n",
    "\n",
    "\n",
    "    # you must return in this format\n",
    "    # return (weight_grads_tensor, bias_grads_tensor)\n",
    "\n",
    "ex4_sol = exercise_4(data, target)\n",
    "assert ex4_sol[0].dim() == 1 and ex4_sol[1].dim() == 1, print(\"All tensors must have dim == 1\")\n",
    "assert torch.all((ex4_sol[0] - torch.tensor([-85.1518, -127.7277, -170.3036, -212.8795, -255.4553, -298.0312, -340.6071, -383.1830, -425.7589, -468.3348], dtype=torch.float32)) < 5e-4)\n",
    "assert torch.all((ex4_sol[1] - torch.tensor([-42.5759], dtype=torch.float32)) < 5e-4)"
   ]
  },
  {
   "cell_type": "markdown",
   "metadata": {},
   "source": [
    "### Q5: This question worth 40% the points of this lab. Your solution for this question will be graded manually by the TAs, hence you will be informed later for the total points for this lab after the deadline has been met."
   ]
  },
  {
   "cell_type": "markdown",
   "metadata": {},
   "source": [
    "**Note**: This question will not focus on getting the right results as your implementation is more important. Therefore there will be no local answer or autograding."
   ]
  },
  {
   "cell_type": "markdown",
   "metadata": {},
   "source": [
    "#### Create a small neural network consisting 2 Linear layers, each followed by a Sigmoid activation function. The template code has been provided below including the return format (`x` should be replaced by the final `tensor` after the forward pass). Your code must use layers and functions provided by `pytorch`. Initialize all necessary components that can be used during the training phase including a Binary Cross Entropy Loss function and a Gradient Descent optimizer. Train your model for 2 epochs with a proper train loop, then make a prediction on a given `val_x` and return your prediction."
   ]
  },
  {
   "cell_type": "markdown",
   "metadata": {},
   "source": [
    "**Note**: the first Linear Layer can have any `in_features` and `out_features`, but the last Linear Layer must have `out_features=2`. Your model will consume the whole input for each epoch, so you don't need to separate the input into batches."
   ]
  },
  {
   "cell_type": "markdown",
   "metadata": {},
   "source": [
    "*Context*: This part is not necessary for your implementation, but it could help you to understand the work that your network is simulating. The `train_x` consists grades for 5 subjects of 20 students, with the minimum grade is 1 and the maximum is 10. The problem is a classification task, when your model predicts if a student is good or bad based on their 5 grades. That is the reason why the final layer must have 2 output features, which correspond to the 2 classes \"good\" and \"bad\"."
   ]
  },
  {
   "cell_type": "code",
   "execution_count": 7,
   "metadata": {},
   "outputs": [
    {
     "ename": "UnboundLocalError",
     "evalue": "cannot access local variable 'model' where it is not associated with a value",
     "output_type": "error",
     "traceback": [
      "\u001b[31m---------------------------------------------------------------------------\u001b[39m",
      "\u001b[31mUnboundLocalError\u001b[39m                         Traceback (most recent call last)",
      "\u001b[36mCell\u001b[39m\u001b[36m \u001b[39m\u001b[32mIn[7]\u001b[39m\u001b[32m, line 60\u001b[39m\n\u001b[32m     56\u001b[39m         prediction = model(val_x)\n\u001b[32m     58\u001b[39m     \u001b[38;5;28;01mreturn\u001b[39;00m prediction\n\u001b[32m---> \u001b[39m\u001b[32m60\u001b[39m ex5_sol = \u001b[43mexercise_5\u001b[49m\u001b[43m(\u001b[49m\u001b[43mtrain_x\u001b[49m\u001b[43m=\u001b[49m\u001b[43mtrain_x\u001b[49m\u001b[43m,\u001b[49m\u001b[43m \u001b[49m\u001b[43mtrain_y\u001b[49m\u001b[43m=\u001b[49m\u001b[43mtrain_y\u001b[49m\u001b[43m,\u001b[49m\u001b[43m \u001b[49m\u001b[43mval_x\u001b[49m\u001b[43m=\u001b[49m\u001b[43mval_x\u001b[49m\u001b[43m)\u001b[49m\n",
      "\u001b[36mCell\u001b[39m\u001b[36m \u001b[39m\u001b[32mIn[7]\u001b[39m\u001b[32m, line 37\u001b[39m, in \u001b[36mexercise_5\u001b[39m\u001b[34m(train_x, train_y, val_x)\u001b[39m\n\u001b[32m     33\u001b[39m         x = \u001b[38;5;28mself\u001b[39m.sigmoid(x)\n\u001b[32m     35\u001b[39m         \u001b[38;5;28;01mreturn\u001b[39;00m x\n\u001b[32m---> \u001b[39m\u001b[32m37\u001b[39m loss = \u001b[43mmodel\u001b[49m.BCEL\n\u001b[32m     38\u001b[39m model = MyNetwork()\n\u001b[32m     39\u001b[39m optimizer = model.optimizer\n",
      "\u001b[31mUnboundLocalError\u001b[39m: cannot access local variable 'model' where it is not associated with a value"
     ]
    }
   ],
   "source": [
    "train_x = torch.randint(1, 10, (20, 5), dtype=torch.float32) # input\n",
    "train_y = (train_x.sum(1) > 30).float() # target\n",
    "\n",
    "val_x = torch.randint(3, 10, (10, 5), dtype=torch.float32)\n",
    "\n",
    "def exercise_5(train_x, train_y, val_x) -> torch.Tensor:\n",
    "\n",
    "    class MyNetwork(nn.Module):\n",
    "        def __init__(self):\n",
    "            super(MyNetwork, self).__init__()\n",
    "            self.layer1 = nn.Linear(5, 10)  #first linear layer 5 features, 10 hidden units\n",
    "            self.layer2 = nn.Linear(10,2)   #second linear layer 10 hidden units, 2 classes (good/bad)\n",
    "            self.sigmoid = nn.Sigmoid()     #activate function - sigmoid squashes values to [0, 1]\n",
    "\n",
    "            #initialize the loss function and optimizer\n",
    "            self.BCEL = self.binary_cross_entropy_loss()\n",
    "            self.optimizer = self.gradient_descent()\n",
    "\n",
    "\n",
    "        def binary_cross_entropy_loss():\n",
    "            return nn.BCELoss()     #def the loss func\n",
    "        \n",
    "        \n",
    "        def gradient_descent():\n",
    "            return torch.optim.SGD(self.parameters(), lr=0.1)   #Use SGD with learning rate 0.1\n",
    "\n",
    "        def forward(self, x):\n",
    "            # layer 1\n",
    "            x = self.layer1(x)\n",
    "            x = self.sigmoid(x)\n",
    "            # layer 2\n",
    "            x = self.layer2(x)\n",
    "            x = self.sigmoid(x)\n",
    "\n",
    "            return x\n",
    "\n",
    "    loss = model.BCEL\n",
    "    model = MyNetwork()\n",
    "    optimizer = model.optimizer\n",
    "\n",
    "    # train loop\n",
    "    for epoch in range(2):\n",
    "        model.optimizer.zero_grad()\n",
    "        output = model(train_x)\n",
    "        \n",
    "        #convert to one-hot format\n",
    "        train_y_onehot = torch.zeros(train_y.size(0), 2)\n",
    "        train_y_onehot.scatter_(1, train_y.long(), 1)\n",
    "\n",
    "        l = loss(output, train_y_onehot)\n",
    "        l.backward()\n",
    "        optimizer.step()\n",
    "\n",
    "    #run prediction\n",
    "    with torch.no_grad():\n",
    "        prediction = model(val_x)\n",
    "\n",
    "    return prediction\n",
    "\n",
    "ex5_sol = exercise_5(train_x=train_x, train_y=train_y, val_x=val_x)"
   ]
  }
 ],
 "metadata": {
  "kernelspec": {
   "display_name": "Python 3",
   "language": "python",
   "name": "python3"
  },
  "language_info": {
   "codemirror_mode": {
    "name": "ipython",
    "version": 3
   },
   "file_extension": ".py",
   "mimetype": "text/x-python",
   "name": "python",
   "nbconvert_exporter": "python",
   "pygments_lexer": "ipython3",
   "version": "3.12.1"
  }
 },
 "nbformat": 4,
 "nbformat_minor": 2
}
